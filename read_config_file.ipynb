{
 "cells": [
  {
   "cell_type": "code",
   "execution_count": null,
   "metadata": {},
   "outputs": [],
   "source": [
    "import yaml\n",
    "root = '.'\n",
    "config_file_location = './config.yml'\n",
    "config_file = yaml.safe_load(open(f'{root}/{config_file_location}'))"
   ]
  },
  {
   "cell_type": "code",
   "execution_count": null,
   "metadata": {},
   "outputs": [],
   "source": [
    "field_eligibility_profil_types = config_file['fields']['field_eligibility_profile']['types']\n",
    "eligibility_profil_names = [type['name'] for type in field_eligibility_profil_types]\n",
    "eligibility_profil_names"
   ]
  },
  {
   "cell_type": "code",
   "execution_count": null,
   "metadata": {},
   "outputs": [],
   "source": []
  },
  {
   "cell_type": "code",
   "execution_count": null,
   "metadata": {},
   "outputs": [],
   "source": [
    "\n",
    "def get_field_eligibility_profil_types(field_eligibility_profil_types):\n",
    "    eligibility_profil_subtypes = []\n",
    "    for type in field_eligibility_profil_types:\n",
    "        for field in type['fields']:\n",
    "            for subtypes in field['types']:\n",
    "                eligibility_profil_subtypes.append(subtypes)\n",
    "\n",
    "    eligibility_profil_conditions = [type['name'] for type in eligibility_profil_subtypes]\n",
    "    return eligibility_profil_conditions\n",
    "\n",
    "eligibility_profil_conditions = get_field_eligibility_profil_types(field_eligibility_profil_types)\n",
    "eligibility_profil_conditions\n"
   ]
  },
  {
   "cell_type": "code",
   "execution_count": null,
   "metadata": {},
   "outputs": [],
   "source": [
    "def get_general_conditions(config_file):\n",
    "    field_general_conditions_types = config_file['fields']['field_general_conditions']['types']\n",
    "    general_conditions = [type['name'] for type in field_general_conditions_types]\n",
    "    return general_conditions\n",
    "\n",
    "general_conditions = get_general_conditions(config_file)\n",
    "general_conditions"
   ]
  },
  {
   "cell_type": "code",
   "execution_count": null,
   "metadata": {},
   "outputs": [],
   "source": [
    "all_conditions = eligibility_profil_conditions + general_conditions\n",
    "all_conditions"
   ]
  }
 ],
 "metadata": {
  "kernelspec": {
   "display_name": "Python 3.8.10 64-bit",
   "language": "python",
   "name": "python3"
  },
  "language_info": {
   "codemirror_mode": {
    "name": "ipython",
    "version": 3
   },
   "file_extension": ".py",
   "mimetype": "text/x-python",
   "name": "python",
   "nbconvert_exporter": "python",
   "pygments_lexer": "ipython3",
   "version": "3.8.10"
  },
  "orig_nbformat": 4,
  "vscode": {
   "interpreter": {
    "hash": "916dbcbb3f70747c44a77c7bcd40155683ae19c65e1c03b4aa3499c5328201f1"
   }
  }
 },
 "nbformat": 4,
 "nbformat_minor": 2
}
