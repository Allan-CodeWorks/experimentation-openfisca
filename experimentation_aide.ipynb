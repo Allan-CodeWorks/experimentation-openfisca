{
 "cells": [
  {
   "cell_type": "code",
   "execution_count": 8,
   "metadata": {},
   "outputs": [],
   "source": [
    "from pathlib import Path\n",
    "\n",
    "dossier_aide = Path('./10_aides')\n",
    "\n",
    "def get_aides_list(dossier_aide):\n",
    "    isYAMLfile = lambda path : str(path).endswith('.yml') or str(path).endswith('.yaml')\n",
    "    liste_fichiers = [str(aide) for aide in dossier_aide.iterdir() if isYAMLfile(aide)]\n",
    "    return liste_fichiers\n",
    "\n",
    "liste_fichiers = get_aides_list(dossier_aide)\n"
   ]
  },
  {
   "cell_type": "code",
   "execution_count": 9,
   "metadata": {},
   "outputs": [
    {
     "data": {
      "text/plain": [
       "['10_aides/bretagne-aide-code-permis.yml',\n",
       " '10_aides/auvergne-rhone-alpes-bourse-merite.yml',\n",
       " '10_aides/bourgogne-franche-comte-dynastage.yml',\n",
       " '10_aides/caf-ain-aide-bafa-session-approfondissement-qualification.yml',\n",
       " '10_aides/benefit_front_test.yml',\n",
       " '10_aides/caf-aide-nationale-bafa.yml',\n",
       " '10_aides/aide-au-bafa-pour-une-session-de-formation-générale-caf-de-la-haute-savoie.yml',\n",
       " '10_aides/auvergne-rhone-alpes-pass-region.yml',\n",
       " '10_aides/bretagne-jeune-international.yml',\n",
       " '10_aides/aide-au-bafa-pour-une-session-dapprofondissement-ou-de-qualification-caf-de-la-haute-savoie.yml']"
      ]
     },
     "execution_count": 9,
     "metadata": {},
     "output_type": "execute_result"
    }
   ],
   "source": [
    "liste_fichiers"
   ]
  },
  {
   "cell_type": "code",
   "execution_count": null,
   "metadata": {},
   "outputs": [],
   "source": []
  }
 ],
 "metadata": {
  "kernelspec": {
   "display_name": "Python 3.8.10 64-bit",
   "language": "python",
   "name": "python3"
  },
  "language_info": {
   "codemirror_mode": {
    "name": "ipython",
    "version": 3
   },
   "file_extension": ".py",
   "mimetype": "text/x-python",
   "name": "python",
   "nbconvert_exporter": "python",
   "pygments_lexer": "ipython3",
   "version": "3.8.10"
  },
  "orig_nbformat": 4,
  "vscode": {
   "interpreter": {
    "hash": "916dbcbb3f70747c44a77c7bcd40155683ae19c65e1c03b4aa3499c5328201f1"
   }
  }
 },
 "nbformat": 4,
 "nbformat_minor": 2
}
