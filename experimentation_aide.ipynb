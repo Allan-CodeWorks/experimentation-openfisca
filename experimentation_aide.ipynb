{
 "cells": [
  {
   "cell_type": "code",
   "execution_count": null,
   "metadata": {},
   "outputs": [],
   "source": [
    "from pathlib import Path\n",
    "\n",
    "dossier_aide = Path('./10_aides')\n",
    "\n",
    "def get_aides_list(dossier_aide):\n",
    "    isYAMLfile = lambda path : str(path).endswith('.yml') or str(path).endswith('.yaml')\n",
    "    liste_fichiers = [str(aide) for aide in dossier_aide.iterdir() if isYAMLfile(aide)]\n",
    "    return liste_fichiers\n",
    "\n",
    "liste_fichiers = get_aides_list(dossier_aide)\n"
   ]
  },
  {
   "cell_type": "code",
   "execution_count": null,
   "metadata": {},
   "outputs": [],
   "source": [
    "liste_fichiers"
   ]
  },
  {
   "cell_type": "code",
   "execution_count": null,
   "metadata": {},
   "outputs": [],
   "source": [
    "import yaml\n",
    "\n",
    "liste_aides = [yaml.safe_load(open(fichier, 'r')) for fichier in liste_fichiers]\n",
    "\n",
    "nom_des_aides = [aide['label'] for aide in liste_aides]\n",
    "nom_des_aides"
   ]
  },
  {
   "cell_type": "code",
   "execution_count": null,
   "metadata": {},
   "outputs": [],
   "source": [
    "root = '.'\n",
    "config_file_location = './config.yml'\n",
    "config_file = yaml.safe_load(open(f'{root}/{config_file_location}'))"
   ]
  },
  {
   "cell_type": "code",
   "execution_count": null,
   "metadata": {},
   "outputs": [],
   "source": [
    "field_eligibility_profil_types = config_file['fields']['field_eligibility_profile']['types']\n",
    "eligibility_profil_names = [type['name'] for type in field_eligibility_profil_types]\n",
    "eligibility_profil_names"
   ]
  },
  {
   "cell_type": "code",
   "execution_count": null,
   "metadata": {},
   "outputs": [],
   "source": []
  }
 ],
 "metadata": {
  "kernelspec": {
   "display_name": "Python 3.8.10 64-bit",
   "language": "python",
   "name": "python3"
  },
  "language_info": {
   "codemirror_mode": {
    "name": "ipython",
    "version": 3
   },
   "file_extension": ".py",
   "mimetype": "text/x-python",
   "name": "python",
   "nbconvert_exporter": "python",
   "pygments_lexer": "ipython3",
   "version": "3.8.10"
  },
  "orig_nbformat": 4,
  "vscode": {
   "interpreter": {
    "hash": "916dbcbb3f70747c44a77c7bcd40155683ae19c65e1c03b4aa3499c5328201f1"
   }
  }
 },
 "nbformat": 4,
 "nbformat_minor": 2
}
