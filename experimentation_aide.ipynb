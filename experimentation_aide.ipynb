{
 "cells": [
  {
   "cell_type": "code",
   "execution_count": null,
   "metadata": {},
   "outputs": [],
   "source": [
    "from pathlib import Path\n",
    "\n",
    "dossier_aide = Path('./aides')\n",
    "\n",
    "def get_aides_paths(dossier_aide):\n",
    "    isYAMLfile = lambda path : str(path).endswith('.yml') or str(path).endswith('.yaml')\n",
    "    liste_fichiers = [str(aide) for aide in dossier_aide.iterdir() if isYAMLfile(aide)]\n",
    "    return liste_fichiers\n",
    "\n",
    "liste_chemin_fichiers = get_aides_paths(dossier_aide)\n"
   ]
  },
  {
   "cell_type": "code",
   "execution_count": null,
   "metadata": {},
   "outputs": [],
   "source": [
    "liste_chemin_fichiers"
   ]
  },
  {
   "cell_type": "code",
   "execution_count": null,
   "metadata": {},
   "outputs": [],
   "source": [
    "import yaml\n",
    "\n",
    "def get_aide_file_content(aide_path):\n",
    "    return yaml.safe_load(open(aide_path))\n",
    "\n",
    "def get_aides_from_yamls(path):\n",
    "    listes_chemin_fichiers_aide = get_aides_paths(path)\n",
    "    aides_liste = [get_aide_file_content(chemin) for chemin in listes_chemin_fichiers_aide]\n",
    "    return aides_liste"
   ]
  },
  {
   "cell_type": "code",
   "execution_count": null,
   "metadata": {},
   "outputs": [],
   "source": [
    "aides_liste = get_aides_from_yamls(dossier_aide)"
   ]
  },
  {
   "cell_type": "code",
   "execution_count": null,
   "metadata": {},
   "outputs": [],
   "source": [
    "def get_profils_names_from_aides_list(path : str):\n",
    "    \n",
    "    get_aide_profiles_names = lambda aide: [profile['type'] for profile in aide['profils']]\n",
    "    \n",
    "    return [profile for aide in aides_liste for profile in get_aide_profiles_names(aide)]\n",
    "\n",
    "names = get_profils_names_from_aides_list(aides_liste)\n",
    "names"
   ]
  },
  {
   "cell_type": "code",
   "execution_count": null,
   "metadata": {},
   "outputs": [],
   "source": [
    "\n",
    "\n",
    "def get_all_conditions_from_list_aide(path: str):\n",
    "    \n",
    "    get_conditions_generales = lambda aide: [condition['type'] for condition in aide['conditions_generales']]\n",
    "    conditions = []\n",
    "    missing = []\n",
    "    for aide in aides_liste:\n",
    "        conditions.extend(get_conditions_generales(aide))\n",
    "        for profil in aide['profils']:\n",
    "            if 'conditions' in profil.keys():\n",
    "                for condition in profil['conditions']:\n",
    "                    conditions.append(condition['type'])\n",
    "    return conditions\n",
    "\n",
    "\n",
    "conditions = get_all_conditions_from_list_aide(aides_liste)\n",
    "conditions"
   ]
  },
  {
   "cell_type": "markdown",
   "metadata": {},
   "source": []
  },
  {
   "cell_type": "code",
   "execution_count": null,
   "metadata": {},
   "outputs": [],
   "source": [
    "def count_list_item_frequence(list : list):\n",
    "    elements_counter = {}\n",
    "    for element in list:\n",
    "        if element in elements_counter:\n",
    "            elements_counter[element] +=1\n",
    "        else:\n",
    "            elements_counter[element] = 1\n",
    "    return (sorted(elements_counter.items(), key=lambda x:x[1]))\n",
    "\n",
    "name_frequence = count_list_item_frequence(names)\n",
    "condition_frequence = count_list_item_frequence(conditions)"
   ]
  },
  {
   "cell_type": "code",
   "execution_count": null,
   "metadata": {},
   "outputs": [],
   "source": [
    "condition_frequence"
   ]
  },
  {
   "cell_type": "code",
   "execution_count": null,
   "metadata": {},
   "outputs": [],
   "source": [
    "name_frequence"
   ]
  }
 ],
 "metadata": {
  "kernelspec": {
   "display_name": "Python 3.8.10 64-bit",
   "language": "python",
   "name": "python3"
  },
  "language_info": {
   "codemirror_mode": {
    "name": "ipython",
    "version": 3
   },
   "file_extension": ".py",
   "mimetype": "text/x-python",
   "name": "python",
   "nbconvert_exporter": "python",
   "pygments_lexer": "ipython3",
   "version": "3.8.10"
  },
  "orig_nbformat": 4,
  "vscode": {
   "interpreter": {
    "hash": "916dbcbb3f70747c44a77c7bcd40155683ae19c65e1c03b4aa3499c5328201f1"
   }
  }
 },
 "nbformat": 4,
 "nbformat_minor": 2
}
