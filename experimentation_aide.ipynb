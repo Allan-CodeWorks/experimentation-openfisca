{
 "cells": [
  {
   "cell_type": "markdown",
   "metadata": {},
   "source": [
    "## Scan for Yaml files:"
   ]
  },
  {
   "cell_type": "code",
   "execution_count": 72,
   "metadata": {},
   "outputs": [
    {
     "data": {
      "text/plain": [
       "['ressources_from_aides_jeunes/aides/haut-de-france-aide-transports-salaries.yml',\n",
       " 'ressources_from_aides_jeunes/aides/region-auvergne-rhone-alpes-billet-illico-autocars.yml',\n",
       " 'ressources_from_aides_jeunes/aides/hauts-de-france-mon-abo-etudiant-ter.yml',\n",
       " 'ressources_from_aides_jeunes/aides/region_bretagne-b-mouve-–-mobilité-des-formations-sanitaires-et-sociales.yml',\n",
       " 'ressources_from_aides_jeunes/aides/region_nouvelle_aquitaine-stages-à-létranger-–-infra-bac.yml',\n",
       " 'ressources_from_aides_jeunes/aides/caf-territoire-de-belfort-aide-bafa-approfondissement.yml',\n",
       " 'ressources_from_aides_jeunes/aides/region-nouvelle-aquitaine-sas-jeunes-orientation-active-vers-emploi.yml',\n",
       " 'ressources_from_aides_jeunes/aides/region-auvergne-rhone-alpes-abonnement-illico.yml',\n",
       " 'ressources_from_aides_jeunes/aides/caf-haute-loire-aide-bafa-approfondissement.yml',\n",
       " 'ressources_from_aides_jeunes/aides/region_la_reunion-bourse-régionale-sanitaire-et-sociale.yml',\n",
       " 'ressources_from_aides_jeunes/aides/caf-sarthe-aide-bafa-generale.yml',\n",
       " 'ressources_from_aides_jeunes/aides/caf-doubs-aide-bafa-generale.yml',\n",
       " 'ressources_from_aides_jeunes/aides/hauts-de-france-ma-carte-ter.yml',\n",
       " 'ressources_from_aides_jeunes/aides/hauts-de-france-indemnites-protec-soc-formation-pro.yml',\n",
       " 'ressources_from_aides_jeunes/aides/caf-haute-saone-aide-bafa.yml',\n",
       " 'ressources_from_aides_jeunes/aides/caf-haute-loire-aide-bafa-generale.yml',\n",
       " 'ressources_from_aides_jeunes/aides/caf-pyrenees-orientales-aide-bafa-approfondissement.yml',\n",
       " 'ressources_from_aides_jeunes/aides/caf-haute-marne-aide-equipement-informatique.yml',\n",
       " 'ressources_from_aides_jeunes/aides/grand-est-aide-mobilite-internationale-etudiants.yml',\n",
       " 'ressources_from_aides_jeunes/aides/caf-charente-aide-bafa-generale.yml',\n",
       " 'ressources_from_aides_jeunes/aides/caf-vaucluse-aide-bafa-generale.yml',\n",
       " 'ressources_from_aides_jeunes/aides/caf-drome-aide-bafa-session-generale.yml',\n",
       " 'ressources_from_aides_jeunes/aides/martinique-bourses-sanitaires-et-sociales.yml',\n",
       " 'ressources_from_aides_jeunes/aides/caf-loire-aide-bafa-approfondissement.yml',\n",
       " 'ressources_from_aides_jeunes/aides/region-bourgogne-franche-comte-jeunes-citoyens-du-monde.yml',\n",
       " 'ressources_from_aides_jeunes/aides/region-centre-val-de-loire-euro-metiers.yml',\n",
       " 'ressources_from_aides_jeunes/aides/departement-val-d-oise-bourse-aux-apprentis.yml',\n",
       " 'ressources_from_aides_jeunes/aides/caf-eure-aide-bafa-generale.yml',\n",
       " 'ressources_from_aides_jeunes/aides/region_ile_de_france-bourses-pour-les-élèves-et-étudiant-e-s-inscrit-e-s-en-formations-sanitaires-et-sociales.yml',\n",
       " 'ressources_from_aides_jeunes/aides/region-pays-de-la-loire-abonnement-tutti-26-illimite.yml',\n",
       " 'ressources_from_aides_jeunes/aides/region-occitanie-financement-formations-sanitaires-sociales-niveaux-v-iv.yml',\n",
       " 'ressources_from_aides_jeunes/aides/region-bourgogne-franche-comte-tarif-jeune-26-ans.yml',\n",
       " 'ressources_from_aides_jeunes/aides/hauts-de-france-aide-restauration-etudiants-boursiers.yml',\n",
       " 'ressources_from_aides_jeunes/aides/region-nouvelle-aquitaine-brevets-bafa-bafd-bnssa.yml',\n",
       " 'ressources_from_aides_jeunes/aides/occitanie-bourse-etudes-sanitaires-et-sociales.yml',\n",
       " 'ressources_from_aides_jeunes/aides/region-provence-alpes-cote-azur-pass-zou-etudes.yml',\n",
       " 'ressources_from_aides_jeunes/aides/caf-charente-maritime-aide-bafa-approfondissement.yml',\n",
       " 'ressources_from_aides_jeunes/aides/region-ile-de-france-carte-imagine-r-scolaire.yml',\n",
       " 'ressources_from_aides_jeunes/aides/caf-drome-aide-bafa-session-approfondissement-qualification.yml',\n",
       " 'ressources_from_aides_jeunes/aides/region_pays_de_la_loire-envoléo.yml',\n",
       " 'ressources_from_aides_jeunes/aides/region-bourgogne-franche-comte-restauration-familles-boursieres.yml',\n",
       " 'ressources_from_aides_jeunes/aides/region-centre-val-de-loire-aide-mobillico.yml',\n",
       " 'ressources_from_aides_jeunes/aides/region-ile-de-france-forfait-gratuite-jeunes-en-insertion.yml',\n",
       " 'ressources_from_aides_jeunes/aides/region-pays-de-la-loire-acces-emploi-parcours-tpme.yml',\n",
       " 'ressources_from_aides_jeunes/aides/hauts-de-france-carte-generation-hebergement.yml',\n",
       " 'ressources_from_aides_jeunes/aides/region-pays-de-la-loire-carte-mezzo-26-ans.yml',\n",
       " 'ressources_from_aides_jeunes/aides/caf_maine_et_loire-aide-au-bafa-pour-une-session-de-formation-générale.yml',\n",
       " 'ressources_from_aides_jeunes/aides/pole-emploi-aif.yml',\n",
       " 'ressources_from_aides_jeunes/aides/grand-est-passetudes.yml',\n",
       " 'ressources_from_aides_jeunes/aides/region-nouvelle-aquitaine-billet-jeunes-28ans.yml',\n",
       " 'ressources_from_aides_jeunes/aides/region-centre-val-de-loire-carte-rémi-liberté-jeune.yml',\n",
       " 'ressources_from_aides_jeunes/aides/caf_moselle-aide-au-bafa-pour-une-session-de-formation-générale.yml',\n",
       " 'ressources_from_aides_jeunes/aides/region-nouvelle-aquitaine-stage-etranger.yml',\n",
       " 'ressources_from_aides_jeunes/aides/region-auvergne-rhone-alpes-abonnement-ter-illico.yml',\n",
       " 'ressources_from_aides_jeunes/aides/region-bretagne-bourse-international-formation-sanitaires-sociales.yml',\n",
       " 'ressources_from_aides_jeunes/aides/region-ile-de-france-reduction-50-volontaires-du-service-civique.yml',\n",
       " 'ressources_from_aides_jeunes/aides/pyrenees-orientales-financement-permis.yml',\n",
       " 'ressources_from_aides_jeunes/aides/caf_morbihan-aide-au-brevet-daptitude-aux-fonctions-de-directeur-bafd.yml',\n",
       " 'ressources_from_aides_jeunes/aides/hauts-de-france-carte-generation-apprentis-aide-transport.yml',\n",
       " 'ressources_from_aides_jeunes/aides/caf-pyrenees-orientales-aide-bafa-generale.yml',\n",
       " 'ressources_from_aides_jeunes/aides/caf-calvados-aide-bafa-générale.yml',\n",
       " 'ressources_from_aides_jeunes/aides/bretagne-aide-code-permis.yml',\n",
       " 'ressources_from_aides_jeunes/aides/region_ile_de_france-aide-individuelle-régionale-vers-l’emploi.yml',\n",
       " 'ressources_from_aides_jeunes/aides/region-nouvelle-aquitaine-sejour-etudes-etranger.yml',\n",
       " 'ressources_from_aides_jeunes/aides/region-corse-aide-au-permis-prima-strada.yml',\n",
       " 'ressources_from_aides_jeunes/aides/region-auvergne-rhone-alpes-aide-financement-permis.yml',\n",
       " 'ressources_from_aides_jeunes/aides/caf-bouches-du-rhone-aide-bafa-generale.yml',\n",
       " 'ressources_from_aides_jeunes/aides/caf_orne-aide-au-brevet-daptitude-aux-fonctions-de-directeur-bafd.yml',\n",
       " 'ressources_from_aides_jeunes/aides/region-ile-de-france-vehicules-propres.yml',\n",
       " 'ressources_from_aides_jeunes/aides/region-corse-depenses-rentree.yml',\n",
       " 'ressources_from_aides_jeunes/aides/centre-val-de-loire-aide-au-1er-equipement-professionnel.yml',\n",
       " 'ressources_from_aides_jeunes/aides/caf-loiret-aide-bafa-approfondissement.yml',\n",
       " 'ressources_from_aides_jeunes/aides/guadeloupe-aide-au-permis-de-conduire-des-jeunes-en-service-civique.yml',\n",
       " 'ressources_from_aides_jeunes/aides/region-hauts-de-france-carte-ter-26-ans.yml',\n",
       " 'ressources_from_aides_jeunes/aides/region_occitanie-éco-chèque-mobilité-achat-d’une-voiture-électrique-ou-hybride-rechargeable-d’occasion.yml',\n",
       " 'ressources_from_aides_jeunes/aides/caf-tarn-et-garonne-aide-bafa-approfondissement.yml',\n",
       " 'ressources_from_aides_jeunes/aides/region_bretagne-les-aides-prepa.yml',\n",
       " 'ressources_from_aides_jeunes/aides/caf-ardennes-aide-bafa-approfondissement.yml',\n",
       " 'ressources_from_aides_jeunes/aides/region-occitanie-aide-au-merite-pour-les-etudiants-en-formations-sanitaires-et-sociales.yml',\n",
       " 'ressources_from_aides_jeunes/aides/guyane-fonds-aide-jeunes.yml',\n",
       " 'ressources_from_aides_jeunes/aides/caf-loiret-aide-bafa-generale.yml',\n",
       " 'ressources_from_aides_jeunes/aides/cohesion-territoires-conseillers-numeriques-france-services.yml',\n",
       " 'ressources_from_aides_jeunes/aides/region-nouvelle-aquitaine-erasmus-stage-infra-bac.yml',\n",
       " 'ressources_from_aides_jeunes/aides/region_ile_de_france-aide-régionale-aux-inscriptions-aux-concours.yml',\n",
       " 'ressources_from_aides_jeunes/aides/caf-tarn-aide-bafa-approfondissement.yml',\n",
       " 'ressources_from_aides_jeunes/aides/region-ile-de-france-aide-au-permis-de-conduire.yml',\n",
       " 'ressources_from_aides_jeunes/aides/caf-tarn-et-garonne-aide-bafa-generale.yml',\n",
       " 'ressources_from_aides_jeunes/aides/grand_est-pass-mobilite-formation.yml',\n",
       " 'ressources_from_aides_jeunes/aides/region-bretagne-aide-qualif-vae.yml',\n",
       " 'ressources_from_aides_jeunes/aides/caf-nord-aide-achat-equipement.yml',\n",
       " 'ressources_from_aides_jeunes/aides/region-provence-alpes-cote-azur-pass-mutuelles.yml',\n",
       " 'ressources_from_aides_jeunes/aides/grand-est-experiences-de-jeunesse.yml',\n",
       " 'ressources_from_aides_jeunes/aides/caf_isere-aide-au-bafa-pour-une-session-de-formation-générale-et-dapprofondissement.yml',\n",
       " 'ressources_from_aides_jeunes/aides/caf-corse-du-sud-aide-bafa-approfondissement.yml',\n",
       " 'ressources_from_aides_jeunes/aides/hauts-de-france-aide-à-la-restauration-des-étudiants-boursiers-en-filière-sanitaire-et-sociale.yml',\n",
       " 'ressources_from_aides_jeunes/aides/hauts_de_france-aide-à-la-garde-denfants.yml',\n",
       " 'ressources_from_aides_jeunes/aides/caf-calvados-bafd.yml',\n",
       " 'ressources_from_aides_jeunes/aides/caf-hautes-pyrenees-aide-bafa-generale.yml',\n",
       " 'ressources_from_aides_jeunes/aides/caf-jura-aide-bafa-generale.yml',\n",
       " 'ressources_from_aides_jeunes/aides/region-centre-val-de-loire-le-combo-parfait-aide-a-la-formation.yml',\n",
       " 'ressources_from_aides_jeunes/aides/region_auvergne_rhone_alpes-financement-de-formations-dans-le-secteur-de-la-santé.yml',\n",
       " 'ressources_from_aides_jeunes/aides/region_normandie-pass-monde-etudes-supérieures-1.yml',\n",
       " 'ressources_from_aides_jeunes/aides/region-bourgogne-franche-comte-aide-au-permis-de-conduire.yml',\n",
       " 'ressources_from_aides_jeunes/aides/caf-meurthe-et-moselle-aide-bafa-generale.yml',\n",
       " 'ressources_from_aides_jeunes/aides/charente-aide-reparation-vehicule.yml',\n",
       " 'ressources_from_aides_jeunes/aides/region-provence-alpes-cote-azur-programme-regional-aide-mobilite-etudiante-prame.yml',\n",
       " 'ressources_from_aides_jeunes/aides/region-provence-alpes-cote-azur-chequier-pass-sante-jeunes.yml',\n",
       " 'ressources_from_aides_jeunes/aides/hauts-de-france-carte-génération-lyceens.yml',\n",
       " 'ressources_from_aides_jeunes/aides/region-provence-alpes-cote-azur-pass-sud-formation.yml',\n",
       " 'ressources_from_aides_jeunes/aides/caf-reunion-aide-bafa-generale.yml',\n",
       " 'ressources_from_aides_jeunes/aides/grand-est-parcours-acquisition-des-competences-en-entreprises.yml',\n",
       " 'ressources_from_aides_jeunes/aides/caf-haute-marne-aide-bafa-generale.yml',\n",
       " 'ressources_from_aides_jeunes/aides/region-occitanie-bourse-de-stage-erasmus-formations-sanitaires-sociales.yml',\n",
       " 'ressources_from_aides_jeunes/aides/region-corse-faj.yml',\n",
       " 'ressources_from_aides_jeunes/aides/hauts-de-france-bourses-etudes-sanitaires-et-sociales.yml',\n",
       " 'ressources_from_aides_jeunes/aides/hauts-de-france-bourse-mobilite-mermoz.yml',\n",
       " 'ressources_from_aides_jeunes/aides/caf-doubs-aide-bafa-approfondissement.yml',\n",
       " 'ressources_from_aides_jeunes/aides/auvergne-rhone-alpes-bourse-merite.yml',\n",
       " 'ressources_from_aides_jeunes/aides/region-nouvelle-aquitaine-accompagnement-vae.yml',\n",
       " 'ressources_from_aides_jeunes/aides/nouvelle-aquitaine-aide-passage-permis-conduire-b.yml',\n",
       " 'ressources_from_aides_jeunes/aides/caf-territoire-de-belfort-aide-bafa-generale.yml',\n",
       " 'ressources_from_aides_jeunes/aides/caf-vosges-aide-bafa-generale.yml',\n",
       " 'ressources_from_aides_jeunes/aides/caf-lot-et-garonne-aide-bafa-approfondissement.yml',\n",
       " 'ressources_from_aides_jeunes/aides/caf-loir-et-cher-aide-bafa-generale.yml',\n",
       " 'ressources_from_aides_jeunes/aides/caf-aube-aide-bafa-approfondissement.yml',\n",
       " 'ressources_from_aides_jeunes/aides/region-hauts-de-france-vae.yml',\n",
       " 'ressources_from_aides_jeunes/aides/caf_dordogne-aide-au-bafa-pour-une-session-de-formation-générale-et-dapprofondissement.yml',\n",
       " 'ressources_from_aides_jeunes/aides/region-ile-de-france-ecoute-etudiants.yml',\n",
       " 'ressources_from_aides_jeunes/aides/caf-alpes-maritimes-aide-autonomie-jeunes.yml',\n",
       " 'ressources_from_aides_jeunes/aides/caf-meuse-aide-bafa-generale.yml',\n",
       " 'ressources_from_aides_jeunes/aides/region-ile-de-france-revenu-jeunes-actifs.yml',\n",
       " 'ressources_from_aides_jeunes/aides/caf-yvelines-aide-bafa-generale.yml',\n",
       " 'ressources_from_aides_jeunes/aides/caf-allier-aide-bafa-session-generale.yml',\n",
       " 'ressources_from_aides_jeunes/aides/caf-correze-aide-bafa-generale.yml',\n",
       " 'ressources_from_aides_jeunes/aides/region-nouvelle-aquitaine-erasmus-stage.yml',\n",
       " 'ressources_from_aides_jeunes/aides/caf-bas-rhin-aide-bafa-generale.yml',\n",
       " 'ressources_from_aides_jeunes/aides/region-occitanie-pass-mutuelle-etudiant·e.yml',\n",
       " 'ressources_from_aides_jeunes/aides/region-occitanie-remuneration-stagiaires-formation-professionnelle.yml',\n",
       " 'ressources_from_aides_jeunes/aides/caf-loire-atlantique-aide-bafa-approfondissement.yml',\n",
       " 'ressources_from_aides_jeunes/aides/departement-corse-bourse-animazioni.yml',\n",
       " 'ressources_from_aides_jeunes/aides/region-ile-de-france-forfait-navigo-jeunes-weekend.yml',\n",
       " 'ressources_from_aides_jeunes/aides/caf-hautes-alpes-aide-bafa-generale.yml',\n",
       " 'ressources_from_aides_jeunes/aides/region-normandie-programme-savoirs.yml',\n",
       " 'ressources_from_aides_jeunes/aides/martinique-fonds-aide-jeunes.yml',\n",
       " 'ressources_from_aides_jeunes/aides/caf-alpes-maritimes-aide-bafa-approfondissement.yml',\n",
       " 'ressources_from_aides_jeunes/aides/region-provence-alpes-cote-azur-remuneration-stagiaires-formation-professionnelle.yml',\n",
       " 'ressources_from_aides_jeunes/aides/caf-cotes-armor-aide-bafa-approfondissement.yml',\n",
       " 'ressources_from_aides_jeunes/aides/caf-aube-bafd.yml',\n",
       " 'ressources_from_aides_jeunes/aides/region-normandie-qualif-collectif.yml',\n",
       " 'ressources_from_aides_jeunes/aides/bourgogne-franche-comte-dynastage.yml',\n",
       " 'ressources_from_aides_jeunes/aides/region-ile-de-france-bourses-mobilite-bts.yml',\n",
       " 'ressources_from_aides_jeunes/aides/region-occitanie-revenu-ecologique-jeune.yml',\n",
       " 'ressources_from_aides_jeunes/aides/caf-vienne-aide-bafa-generale.yml',\n",
       " 'ressources_from_aides_jeunes/aides/caf-gironde-aide-au-bafa-pour-une-session-de-formation-dapprofondissement.yml',\n",
       " 'ressources_from_aides_jeunes/aides/caf-ain-aide-bafa-session-approfondissement-qualification.yml',\n",
       " 'ressources_from_aides_jeunes/aides/caf-puy-de-dome-aide-bafa-generale.yml',\n",
       " 'ressources_from_aides_jeunes/aides/region-hauts-de-france-fonds-solidarite-apprentissage.yml',\n",
       " 'ressources_from_aides_jeunes/aides/region_auvergne_rhone_alpes-bourse-du-secteur-santé-social.yml',\n",
       " 'ressources_from_aides_jeunes/aides/region-ile-de-france-aide-apprentissage.yml',\n",
       " 'ressources_from_aides_jeunes/aides/hauts-de-france-fonds-regional-aide-urgence-sanitaire-social.yml',\n",
       " 'ressources_from_aides_jeunes/aides/region-hauts-de-france-aide-scola-lycee.yml',\n",
       " 'ressources_from_aides_jeunes/aides/region-provence-alpes-cote-azur-carte-zou.yml',\n",
       " 'ressources_from_aides_jeunes/aides/caf_haute_garonne-aide-complémentaire-au-bafa-handicap.yml',\n",
       " 'ressources_from_aides_jeunes/aides/hauts-de-france-formations-sanitaires-sociales-niveaux-3-4.yml',\n",
       " 'ressources_from_aides_jeunes/aides/region_centre_val_de_loire-aides-pour-la-formation-sanitaire-et-social.yml',\n",
       " 'ressources_from_aides_jeunes/aides/region-bourgogne-franche-comte-pass-vae.yml',\n",
       " 'ressources_from_aides_jeunes/aides/caf-haute-marne-aide-bafd.yml',\n",
       " 'ressources_from_aides_jeunes/aides/caf-sarthe-aide-bafa-approfondissement.yml',\n",
       " 'ressources_from_aides_jeunes/aides/caf_saone_et_loire-aide-à-lautonomie-des-jeunes.yml',\n",
       " 'ressources_from_aides_jeunes/aides/region-grand-est-abonnement-primo.yml',\n",
       " 'ressources_from_aides_jeunes/aides/region_bourgogne_franche_comte-bourses-détudes-sanitaires-et-sociales.yml',\n",
       " 'ressources_from_aides_jeunes/aides/region-bretagne-qualif-sanitaire-social.yml',\n",
       " 'ressources_from_aides_jeunes/aides/collectivite-europeenne-alsace-fonds-aide-jeunes.yml',\n",
       " 'ressources_from_aides_jeunes/aides/benefit_front_test.yml',\n",
       " 'ressources_from_aides_jeunes/aides/region_normandie-aides-aux-formations-paramédicales-sociales-ou-de-santé.yml',\n",
       " 'ressources_from_aides_jeunes/aides/caf-mayenne-aide-bafa-generale.yml',\n",
       " 'ressources_from_aides_jeunes/aides/hauts-de-france-carte-generation-apprentis-aide-restauration.yml',\n",
       " 'ressources_from_aides_jeunes/aides/caf_alpes_maritimes-une-aide-au-départ-en-vacances-pour-les-jeunes-le-dispositif-sac-ados.yml',\n",
       " 'ressources_from_aides_jeunes/aides/caf-creuse-aide-bafa-generale.yml',\n",
       " 'ressources_from_aides_jeunes/aides/caf-mayenne-aide-bafa-approfondissement.yml',\n",
       " 'ressources_from_aides_jeunes/aides/region_normandie-aide-à-laccès-au-permis-de-conduire-permis-b.yml',\n",
       " 'ressources_from_aides_jeunes/aides/region-la-reunion-etudier-au-quebec.yml',\n",
       " 'ressources_from_aides_jeunes/aides/caf-aide-nationale-bafa.yml',\n",
       " 'ressources_from_aides_jeunes/aides/region-ile-de-france-bourse-installtation-des-étudiants-en-kinésithérapie-et-maïeutique.yml',\n",
       " 'ressources_from_aides_jeunes/aides/guadeloupe-bourse-sociale.yml',\n",
       " 'ressources_from_aides_jeunes/aides/region-occitanie-mobilite-internationale-etudiant·e·s.yml',\n",
       " 'ressources_from_aides_jeunes/aides/region_bretagne-aide-au-premier-équipement-professionnel-des-lycéen-ne-s.yml',\n",
       " 'ressources_from_aides_jeunes/aides/provence-alpes-cote-azur-fonds-sanitaire-social.yml',\n",
       " 'ressources_from_aides_jeunes/aides/caf_dordogne-aide-au-brevet-daptitude-aux-fonctions-de-directeur-bafd.yml',\n",
       " 'ressources_from_aides_jeunes/aides/region_nouvelle_aquitaine-chèque-livre.yml',\n",
       " 'ressources_from_aides_jeunes/aides/caf-ain-aide-bafa-session-generale.yml',\n",
       " 'ressources_from_aides_jeunes/aides/region-occitanie-libertio-jeunes.yml',\n",
       " 'ressources_from_aides_jeunes/aides/aide-au-bafa-pour-une-session-de-formation-générale-caf-de-la-haute-savoie.yml',\n",
       " 'ressources_from_aides_jeunes/aides/caf-haute-vienne-aide-bafa-generale.yml',\n",
       " 'ressources_from_aides_jeunes/aides/auvergne-rhone-alpes-pass-region.yml',\n",
       " 'ressources_from_aides_jeunes/aides/grand-est-jeunest.yml',\n",
       " 'ressources_from_aides_jeunes/aides/caf-val-de-marne-aide-bafa-approfondissement-qualification.yml',\n",
       " 'ressources_from_aides_jeunes/aides/caf-aube-aide-bafa-generale.yml',\n",
       " 'ressources_from_aides_jeunes/aides/region-bretagne-bourse-international-bts-dut.yml',\n",
       " 'ressources_from_aides_jeunes/aides/region-nouvelle-aquitaine-pass-abonne-28-ans.yml',\n",
       " 'ressources_from_aides_jeunes/aides/region-occitanie-frequencio-jeunes.yml',\n",
       " 'ressources_from_aides_jeunes/aides/region-bourgogne-franche-comte-ordil.yml',\n",
       " 'ressources_from_aides_jeunes/aides/region-auvergne-rhone-alpes-carte-ter-illico-liberte-jeunes.yml',\n",
       " 'ressources_from_aides_jeunes/aides/caf-nord-bafd.yml',\n",
       " 'ressources_from_aides_jeunes/aides/region-nouvelle-aquitaine-fonds-social-formation.yml',\n",
       " 'ressources_from_aides_jeunes/aides/region_pays_de_la_loire-fonds-social-lycéen-régional.yml',\n",
       " 'ressources_from_aides_jeunes/aides/guadeloupe-bourse-sanitaire.yml',\n",
       " 'ressources_from_aides_jeunes/aides/region-pays-de-la-loire-prime-job-etudiant.yml',\n",
       " 'ressources_from_aides_jeunes/aides/region-pays-de-la-loire-carte-mezzo.yml',\n",
       " 'ressources_from_aides_jeunes/aides/centre-val-de-loire-pass-yeps.yml',\n",
       " 'ressources_from_aides_jeunes/aides/hauts-de-france-en-route-pour-lemploi-parc-auto-1euro.yml',\n",
       " 'ressources_from_aides_jeunes/aides/caf_eure-aide-au-brevet-daptitude-aux-fonctions-de-directeur-bafd.yml',\n",
       " 'ressources_from_aides_jeunes/aides/region_bretagne-éhop-covoiturage-solidaire-pour-lemploi.yml',\n",
       " 'ressources_from_aides_jeunes/aides/region-nouvelle-aquitaine-soutien-scolaire-service-gratuit-aide-devoirs.yml',\n",
       " 'ressources_from_aides_jeunes/aides/caf_doubs-aide-au-brevet-daptitude-aux-fonctions-de-directeur-bafd.yml',\n",
       " 'ressources_from_aides_jeunes/aides/region-nouvelle-aquitaine-fonds-aide-mobilite-emploi.yml',\n",
       " 'ressources_from_aides_jeunes/aides/caf-ardeche-aide-bafa.yml',\n",
       " 'ressources_from_aides_jeunes/aides/caf-loire-aide-bafa-generale.yml',\n",
       " 'ressources_from_aides_jeunes/aides/region-pays-de-la-loire-ehop-emploi.yml',\n",
       " 'ressources_from_aides_jeunes/aides/region-normandie-atouts-normandie-aide-bafa-bafd-bnssa-1er-secours-et-chantiers-de-bénévoles.yml',\n",
       " 'ressources_from_aides_jeunes/aides/guadeloupe-aide-au-permis-de-conduire-des-apprenti-e-s.yml',\n",
       " 'ressources_from_aides_jeunes/aides/region-normandie-abonnement-tempo-26-ans.yml',\n",
       " 'ressources_from_aides_jeunes/aides/caf-orne-aide-bafa-generale.yml',\n",
       " 'ressources_from_aides_jeunes/aides/caf-seine-st-denis-aide-bafa-approfondissement.yml',\n",
       " 'ressources_from_aides_jeunes/aides/caf-alpes-maritimes-aide-bafa-generale.yml',\n",
       " 'ressources_from_aides_jeunes/aides/caf-vaucluse-aide-bafa-approfondissement.yml',\n",
       " 'ressources_from_aides_jeunes/aides/region-bretagne-aide-qualif-emploi.yml',\n",
       " 'ressources_from_aides_jeunes/aides/pays-de-la-loire-bourse-regionale-merite.yml',\n",
       " 'ressources_from_aides_jeunes/aides/caf-indre-et-loire-aide-bafa-generale.yml',\n",
       " 'ressources_from_aides_jeunes/aides/caf-morbihan-aide-bafa-approfondissement.yml',\n",
       " 'ressources_from_aides_jeunes/aides/region-provence-alpes-cote-azur-accompagnement-vae.yml',\n",
       " 'ressources_from_aides_jeunes/aides/region-auvergne-rhone-alpes-formation-sante-sociale.yml',\n",
       " 'ressources_from_aides_jeunes/aides/region_nouvelle_aquitaine-bourses-pour-les-étudiants-en-formations-sociales-paramédicales-et-de-santé.yml',\n",
       " 'ressources_from_aides_jeunes/aides/caf_pas_de_calais-aide-au-bafa-pour-une-session-de-formation-générale.yml',\n",
       " 'ressources_from_aides_jeunes/aides/region-centre-val-de-loire-mobilite-internationale-apprenti.yml',\n",
       " 'ressources_from_aides_jeunes/aides/region-bourgogne-franche-comte-stages-monde.yml',\n",
       " 'ressources_from_aides_jeunes/aides/pays-de-la-loire-aide-acquisition-ordinateur-portable.yml',\n",
       " 'ressources_from_aides_jeunes/aides/caf_pas_de_calais-aide-à-loutillage.yml',\n",
       " 'ressources_from_aides_jeunes/aides/caf-lot-et-garonne-aide-bafa-generale.yml',\n",
       " 'ressources_from_aides_jeunes/aides/region-nouvelle-aquitaine-aide-à-la-restauration-des-lycéen·ne·s.yml',\n",
       " 'ressources_from_aides_jeunes/aides/caf-eure-et-loir-aide-bafa-approfondissement.yml',\n",
       " 'ressources_from_aides_jeunes/aides/region-normandie-vae.yml',\n",
       " 'ressources_from_aides_jeunes/aides/hauts-de-france-transport-etudiants.yml',\n",
       " 'ressources_from_aides_jeunes/aides/bretagne-jeune-international.yml',\n",
       " 'ressources_from_aides_jeunes/aides/region-pays-de-la-loire-fonds-social-regional-urgence.yml',\n",
       " 'ressources_from_aides_jeunes/aides/caf-calvados-aide-bafa-approfondissement.yml',\n",
       " 'ressources_from_aides_jeunes/aides/caf-meurthe-et-moselle-aide-bafa-approfondissement.yml',\n",
       " 'ressources_from_aides_jeunes/aides/guadeloupe-stage-regional-jeunes-en-entreprise.yml',\n",
       " 'ressources_from_aides_jeunes/aides/region-auvergne-rhone-alpes-ter-illico-solidaire.yml',\n",
       " 'ressources_from_aides_jeunes/aides/region-normandie-une-formation-un-emploi.yml',\n",
       " 'ressources_from_aides_jeunes/aides/region_corse-bourses-d’études-de-formations-sanitaires-et-sociales.yml',\n",
       " 'ressources_from_aides_jeunes/aides/region-pays-de-la-loire-visa-sanitaire-et-social.yml',\n",
       " 'ressources_from_aides_jeunes/aides/caf-savoie-aide-bafa.yml',\n",
       " 'ressources_from_aides_jeunes/aides/caf-guyane-aide-bafa-approfondissement.yml',\n",
       " 'ressources_from_aides_jeunes/aides/caf-somme-aide-bafa-generale.yml',\n",
       " 'ressources_from_aides_jeunes/aides/caf_cotes_armor-aide-au-brevet-daptitude-aux-fonctions-de-directeur-bafd.yml',\n",
       " 'ressources_from_aides_jeunes/aides/caf-saone-et-loire-aide-bafa-generale.yml',\n",
       " 'ressources_from_aides_jeunes/aides/caf_oise-aide-au-bafa-pour-une-session-de-formation-générale.yml',\n",
       " 'ressources_from_aides_jeunes/aides/caf-haute-saone-aide-autonomie.yml',\n",
       " 'ressources_from_aides_jeunes/aides/region-ile-de-france-carte-scolaire-bus-lignes-regulieres.yml',\n",
       " 'ressources_from_aides_jeunes/aides/region-normandie-dispositif-avenir.yml',\n",
       " 'ressources_from_aides_jeunes/aides/caf-nord-aide-bafa-approfondissement.yml',\n",
       " 'ressources_from_aides_jeunes/aides/region-bretagne-abonnement-breizhgo.yml',\n",
       " 'ressources_from_aides_jeunes/aides/grand-est-bourse-du-secteur-sanitaire-et-social.yml',\n",
       " 'ressources_from_aides_jeunes/aides/region-corse-bourse-a-la-mobilite-mobighjovani.yml',\n",
       " 'ressources_from_aides_jeunes/aides/region_ile_de_france-aide-régionale-à-léquipement-individuel-dans-les-filières-pro-et-technologiques.yml',\n",
       " 'ressources_from_aides_jeunes/aides/region_pays_de_la_loire-bourses-pour-les-élèves-et-étudiant-e-s-en-formation-sanitaire-et-sociale.yml',\n",
       " 'ressources_from_aides_jeunes/aides/caf-haute-marne-aide-parcours-jeunes.yml',\n",
       " 'ressources_from_aides_jeunes/aides/centre-val-de-loire-aide-depot-garantie.yml',\n",
       " 'ressources_from_aides_jeunes/aides/centre-val-de-loire-cheque-emploi.yml',\n",
       " 'ressources_from_aides_jeunes/aides/caf-bas-rhin-aide-bafa-approfondissement.yml',\n",
       " 'ressources_from_aides_jeunes/aides/etat-aide-nationale-exceptionnelle-au-brevet-daptitude-aux-fonctions-danimateur-bafa.yml',\n",
       " 'ressources_from_aides_jeunes/aides/region-normandie-pass-monde-etudes-secondaires.yml',\n",
       " 'ressources_from_aides_jeunes/aides/provence-alpes-cote-azur-bourse-sanitaire-social.yml',\n",
       " 'ressources_from_aides_jeunes/aides/region_ile_de_france-aide-régionale-au-passage-du-diplôme-daccès-aux-études-universitaires-daeu.yml',\n",
       " 'ressources_from_aides_jeunes/aides/ile-de-france-aide-au-merite.yml',\n",
       " 'ressources_from_aides_jeunes/aides/caf-charente-maritime-bafd.yml',\n",
       " 'ressources_from_aides_jeunes/aides/region-bourgogne-franche-comte-e-carte-avantages-jeunes.yml',\n",
       " 'ressources_from_aides_jeunes/aides/caf-bouches-du-rhone-aide-bafa-approfondissement.yml',\n",
       " 'ressources_from_aides_jeunes/aides/region-provence-alpes-cote-azur-un-parrain-un-emploi.yml',\n",
       " 'ressources_from_aides_jeunes/aides/guadeloupe-pret-etudiant·e-taux-zero.yml',\n",
       " 'ressources_from_aides_jeunes/aides/region-bourgogne-franche-comte-abonnement-scolaire-bfc.yml',\n",
       " 'ressources_from_aides_jeunes/aides/caf-loir-et-cher-aide-bafa-approfondissement.yml',\n",
       " 'ressources_from_aides_jeunes/aides/caf-deux-sevres-aide-bafa-generale.yml',\n",
       " 'ressources_from_aides_jeunes/aides/hauts-de-france-billet-enfant-1euro.yml',\n",
       " 'ressources_from_aides_jeunes/aides/caf_ille_et_vilaine-aides-au-bafa-et-bafd-pour-une-formation-générale-ou-dapprofondissement-qualification.yml',\n",
       " 'ressources_from_aides_jeunes/aides/region-auvergne-rhone_alpes-bourse-mobilite-internationale-etudiants.yml',\n",
       " 'ressources_from_aides_jeunes/aides/hauts-de-france-carte-generation-apprentis-aide-equipement.yml',\n",
       " 'ressources_from_aides_jeunes/aides/region-ile-de-france-bourses-mobilite-etudiants-dut-licence-master.yml',\n",
       " 'ressources_from_aides_jeunes/aides/occitanie-premier-equipement-professionnel.yml',\n",
       " 'ressources_from_aides_jeunes/aides/aide-au-bafa-pour-une-session-dapprofondissement-ou-de-qualification-caf-de-la-haute-savoie.yml',\n",
       " 'ressources_from_aides_jeunes/aides/region-hauts-de-france-fonds-regional-social-urgence.yml',\n",
       " 'ressources_from_aides_jeunes/aides/region-auvergne-rhone-alpes-bourse-mobilite-internationale-lycee-apprentissage.yml',\n",
       " 'ressources_from_aides_jeunes/aides/region-bretagne-bourse-international-lycee-pro.yml',\n",
       " 'ressources_from_aides_jeunes/aides/region_pays_de_la_loire-aide-au-financement-du-permis-de-conduire.yml',\n",
       " 'ressources_from_aides_jeunes/aides/caf-seine-maritime-aide-bafa-approfondissement.yml',\n",
       " 'ressources_from_aides_jeunes/aides/caf_oise-aide-au-bafa-pour-une-session-de-formation-dapprofondissement-ou-de-qualification.yml',\n",
       " 'ressources_from_aides_jeunes/aides/region_normandie-atouts-normandie-avantages-loisirs.yml',\n",
       " 'ressources_from_aides_jeunes/aides/caf-ardennes-aide-bafa-generale.yml',\n",
       " 'ressources_from_aides_jeunes/aides/region_normandie-pass-monde-volontariat.yml',\n",
       " 'ressources_from_aides_jeunes/aides/caf-val-de-marne-aide-bafa-formation-generale.yml',\n",
       " 'ressources_from_aides_jeunes/aides/grand-est-mobilite-internationale-sanitaire-et-sociale.yml',\n",
       " 'ressources_from_aides_jeunes/aides/provence-alpes-cote-azur-e-pass-jeunes.yml',\n",
       " 'ressources_from_aides_jeunes/aides/region_pays_de_la_loire-aide-à-l’achat-d’un-vélo-pliant-ou-à-assistance-électrique-vae.yml',\n",
       " 'ressources_from_aides_jeunes/aides/region-bourgogne-franche-comte-etudes-etranger-aquisis.yml',\n",
       " 'ressources_from_aides_jeunes/aides/caf-seine-et-marne-aide-bafa-generale.yml',\n",
       " 'ressources_from_aides_jeunes/aides/caf-charente-maritime-aide-bafa-generale.yml',\n",
       " 'ressources_from_aides_jeunes/aides/caf-indre-et-loire-aide-bafa-approfondissement.yml',\n",
       " 'ressources_from_aides_jeunes/aides/caf-jura-aide-bafa-approfondissement.yml',\n",
       " 'ressources_from_aides_jeunes/aides/caf-reunion-aide-bafa-approfondissement.yml',\n",
       " 'ressources_from_aides_jeunes/aides/guadeloupe-hebergement-cite-internationale-universitaire-de-paris.yml',\n",
       " 'ressources_from_aides_jeunes/aides/caf-var-aide-bafa-approfondissement.yml',\n",
       " 'ressources_from_aides_jeunes/aides/region-auvergne-rhone-alpes-bourse-merite.yml',\n",
       " 'ressources_from_aides_jeunes/aides/caf-aveyron-aide-bafa-approfondissement.yml']"
      ]
     },
     "execution_count": 72,
     "metadata": {},
     "output_type": "execute_result"
    }
   ],
   "source": [
    "from pathlib import Path\n",
    "\n",
    "root = '.'\n",
    "path = './ressources_from_aides_jeunes/aides/'\n",
    "\n",
    "current_path = f'{root}/{path}'\n",
    "benefits_folder = Path(current_path)\n",
    "\n",
    "def extract_benefits_paths(benefits_folder):\n",
    "    isYAMLfile = lambda path : str(path).endswith('.yml') or str(path).endswith('.yaml')\n",
    "    liste_fichiers = [str(benefit) for benefit in benefits_folder.iterdir() if isYAMLfile(benefit)]\n",
    "    return liste_fichiers\n",
    "\n",
    "benefits_files_paths = extract_benefits_paths(benefits_folder)\n",
    "benefits_files_paths"
   ]
  },
  {
   "cell_type": "markdown",
   "metadata": {},
   "source": [
    "## Open and parse files: make a list of Dict"
   ]
  },
  {
   "cell_type": "code",
   "execution_count": null,
   "metadata": {},
   "outputs": [],
   "source": [
    "import yaml\n",
    "\n",
    "def extract_benefit_file_content(aide_path):\n",
    "    benefit:dict = yaml.safe_load(open(aide_path))\n",
    "    benefit['file_path'] = aide_path\n",
    "    return benefit\n",
    "\n",
    "def extract_benefits_from_yamls(path):\n",
    "    benefits_files_paths = extract_benefits_paths(path)\n",
    "    benefits = [extract_benefit_file_content(path) for path in benefits_files_paths]\n",
    "    return benefits"
   ]
  },
  {
   "cell_type": "markdown",
   "metadata": {},
   "source": [
    "#### Making benefits objects (bad idea, dont use `benefits_objects`)"
   ]
  },
  {
   "cell_type": "code",
   "execution_count": null,
   "metadata": {},
   "outputs": [],
   "source": [
    "from benefit import Benefit\n",
    "def parse_benefits_from_yamls(path):\n",
    "    benefits_files_paths = extract_benefits_paths(path)\n",
    "    benefits = [Benefit(extract_benefit_file_content(path)) for path in benefits_files_paths]\n",
    "    return benefits\n",
    "\n",
    "benefits_objects = parse_benefits_from_yamls(benefits_folder)    "
   ]
  },
  {
   "cell_type": "code",
   "execution_count": null,
   "metadata": {},
   "outputs": [],
   "source": [
    "benefits = extract_benefits_from_yamls(benefits_folder)\n",
    "len(benefits)"
   ]
  },
  {
   "cell_type": "markdown",
   "metadata": {
    "tags": []
   },
   "source": [
    "##  Make a list of [profils] [type] in all aides given"
   ]
  },
  {
   "cell_type": "code",
   "execution_count": null,
   "metadata": {},
   "outputs": [],
   "source": [
    "\n",
    "from functools import reduce\n",
    "from benefit import BenefitProfile\n",
    "\n",
    "def accumulate_profils(profils: list, benefit: BenefitProfile):\n",
    "        return profils + benefit.get_profils_types()\n",
    "\n",
    "profiles_names = reduce(accumulate_profils, benefits_objects, [])\n"
   ]
  },
  {
   "cell_type": "markdown",
   "metadata": {},
   "source": [
    "# Make a list with all conditons:\n",
    "\t- conditions generales\n",
    "\t- conditions in [profils][type]"
   ]
  },
  {
   "cell_type": "code",
   "execution_count": null,
   "metadata": {},
   "outputs": [],
   "source": [
    "from functools import reduce\n",
    "\n",
    "from benefit import BenefitCondition\n",
    "\n",
    "def accumulate_conditions(conditions: list, benefit: BenefitCondition):\n",
    "    return conditions + benefit.get_all_conditions_types()\n",
    "\n",
    "conditions_names = reduce(accumulate_conditions, benefits_objects, [])\n",
    "conditions_names"
   ]
  },
  {
   "cell_type": "markdown",
   "metadata": {},
   "source": [
    "# Count frequence of profils and conditions appearances"
   ]
  },
  {
   "cell_type": "code",
   "execution_count": null,
   "metadata": {},
   "outputs": [],
   "source": [
    "def count_list_item_frequence(list : list):\n",
    "    elements_counter = {}\n",
    "    for element in list:\n",
    "        if element in elements_counter:\n",
    "            elements_counter[element] +=1\n",
    "        else:\n",
    "            elements_counter[element] = 1\n",
    "    return (sorted(elements_counter.items(), key=lambda x:x[1]))\n",
    "\n",
    "profil_names_frequence = count_list_item_frequence(profiles_names)\n",
    "condition_frequence = count_list_item_frequence(conditions_names)"
   ]
  },
  {
   "cell_type": "code",
   "execution_count": null,
   "metadata": {},
   "outputs": [],
   "source": [
    "condition_frequence"
   ]
  },
  {
   "cell_type": "code",
   "execution_count": null,
   "metadata": {},
   "outputs": [],
   "source": [
    "profil_names_frequence"
   ]
  },
  {
   "cell_type": "markdown",
   "metadata": {},
   "source": [
    "## Reference benefits with no profils:"
   ]
  },
  {
   "cell_type": "code",
   "execution_count": null,
   "metadata": {},
   "outputs": [],
   "source": [
    "def contains_profils(benefit :dict):\n",
    "    return 'profils' in benefit and benefit['profils'] != []\n",
    "\n",
    "def extract_benefit_without_profile(benefit: Benefit):\n",
    "    if benefit.profils == []:\n",
    "        return [benefit.file_path]\n",
    "    else:\n",
    "        return []\n",
    "\n",
    "def accumulate_benefit_without_profile(list:list, benefit):\n",
    "    \n",
    "    return list + extract_benefit_without_profile(benefit)\n",
    "    \n",
    "    \n",
    "benefits_without_profils = reduce(accumulate_benefit_without_profile, benefits_objects, [])\n",
    "benefits_without_profils"
   ]
  },
  {
   "cell_type": "markdown",
   "metadata": {},
   "source": [
    "## Benefits using only age as condition:"
   ]
  },
  {
   "cell_type": "code",
   "execution_count": null,
   "metadata": {},
   "outputs": [],
   "source": [
    "def is_only_condition_age(benefit: Benefit):\n",
    "    conditions = benefit.get_all_conditions_types()\n",
    "    return all(condition == \"age\" for condition in conditions) and conditions != []\n",
    "\n",
    "def extract_benefit_with_only_condition(benefit : Benefit):\n",
    "    if is_only_condition_age(benefit):\n",
    "        return [benefit.file_path]\n",
    "    else:\n",
    "        return []\n",
    "\n",
    "def accumulate_benefit_with_only_condition(list:list, benefit: Benefit):\n",
    "    \n",
    "    return list + extract_benefit_with_only_condition(benefit)\n",
    "\n",
    "benefits_with_only_age_condition = reduce(accumulate_benefit_with_only_condition, benefits_objects, [])\n",
    "benefits_with_only_age_condition"
   ]
  },
  {
   "cell_type": "markdown",
   "metadata": {},
   "source": [
    "## Getting benefits Conditions (tools)"
   ]
  },
  {
   "cell_type": "code",
   "execution_count": null,
   "metadata": {},
   "outputs": [],
   "source": [
    "def get_benefit_profil_conditions(benefit):\n",
    "    conditions = []\n",
    "    if 'profile' in benefit and 'conditions' in benefit['profile']:\n",
    "        conditions= [condition for profile in benefit['profils'] for condition in profile['conditions']]\n",
    "    return conditions\n",
    "\n",
    "def get_benefit_general_conditions(benefit):\n",
    "    return [condition for condition in benefit['conditions_generales']]\n",
    "\n",
    "def get_all_benefit_conditions(benefit):\n",
    "    return get_benefit_general_conditions(benefit) + get_benefit_profil_conditions(benefit)"
   ]
  },
  {
   "cell_type": "markdown",
   "metadata": {},
   "source": [
    "## Get Benefits with 1 conditions"
   ]
  },
  {
   "cell_type": "code",
   "execution_count": null,
   "metadata": {},
   "outputs": [],
   "source": [
    "def get_benefit_with_1_conditions(benefits):\n",
    "    return [benefit for benefit in benefits if len(get_all_benefit_conditions(benefit)) == 1]\n",
    "\n",
    "benefits_with_1_conditions =  get_benefit_with_1_conditions(benefits)\n",
    "len(benefits_with_1_conditions)"
   ]
  },
  {
   "cell_type": "markdown",
   "metadata": {},
   "source": [
    "#### Benefit conditions tools"
   ]
  },
  {
   "cell_type": "code",
   "execution_count": null,
   "metadata": {},
   "outputs": [],
   "source": [
    "def get_condition_type(condition):\n",
    "    return condition['type']\n",
    "\n",
    "def contains_age_condition(benefit):\n",
    "    conditions = get_all_benefit_conditions(benefit)\n",
    "    return 'age' in [get_condition_type(condition) for condition in conditions]\n",
    "\n",
    "def contains_departments_condition(benefit):\n",
    "    conditions = get_all_benefit_conditions(benefit)\n",
    "    return 'departements' in [get_condition_type(condition) for condition in conditions]\n",
    "\n",
    "def contains_regions_condition(benefit):\n",
    "    conditions = get_all_benefit_conditions(benefit)\n",
    "    return 'regions' in [get_condition_type(condition) for condition in conditions]\n",
    "\n",
    "def unwanted_conditions(benefit):\n",
    "    return contains_age_condition(benefit) or contains_departments_condition(benefit) or contains_regions_condition(benefit)\n",
    "\n"
   ]
  },
  {
   "cell_type": "markdown",
   "metadata": {},
   "source": [
    "#### Get Benefits with 1 conditions which is not age"
   ]
  },
  {
   "cell_type": "code",
   "execution_count": null,
   "metadata": {},
   "outputs": [],
   "source": [
    "benefits_with_1_conditions_not_age = [benefit for benefit in benefits_with_1_conditions if not contains_age_condition(benefit)]\n",
    "len(benefits_with_1_conditions_not_age)"
   ]
  },
  {
   "cell_type": "code",
   "execution_count": null,
   "metadata": {},
   "outputs": [],
   "source": [
    "[(benefit['file_path'].split('/')[-1]) for benefit in benefits_with_1_conditions_not_age]"
   ]
  },
  {
   "cell_type": "markdown",
   "metadata": {},
   "source": [
    "### Get Benefits with 1 conditions which is not age nor region nor departements"
   ]
  },
  {
   "cell_type": "code",
   "execution_count": null,
   "metadata": {},
   "outputs": [],
   "source": [
    "benefits_with_1_conditions_not_age_regions_departments = [benefit for benefit in benefits_with_1_conditions if not unwanted_conditions(benefit)]\n",
    "len(benefits_with_1_conditions_not_age_regions_departments)"
   ]
  }
 ],
 "metadata": {
  "kernelspec": {
   "display_name": "Python 3 (ipykernel)",
   "language": "python",
   "name": "python3"
  },
  "language_info": {
   "codemirror_mode": {
    "name": "ipython",
    "version": 3
   },
   "file_extension": ".py",
   "mimetype": "text/x-python",
   "name": "python",
   "nbconvert_exporter": "python",
   "pygments_lexer": "ipython3",
   "version": "3.8.10"
  },
  "vscode": {
   "interpreter": {
    "hash": "916dbcbb3f70747c44a77c7bcd40155683ae19c65e1c03b4aa3499c5328201f1"
   }
  }
 },
 "nbformat": 4,
 "nbformat_minor": 2
}
