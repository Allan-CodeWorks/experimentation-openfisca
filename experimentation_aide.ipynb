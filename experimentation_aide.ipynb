{
 "cells": [
  {
   "cell_type": "markdown",
   "metadata": {},
   "source": [
    "## Scan for Yaml files:"
   ]
  },
  {
   "cell_type": "code",
   "execution_count": null,
   "metadata": {},
   "outputs": [],
   "source": [
    "from pathlib import Path\n",
    "\n",
    "benefits_folder = Path('./aides')\n",
    "\n",
    "def extract_benefits_paths(benefits_folder):\n",
    "    isYAMLfile = lambda path : str(path).endswith('.yml') or str(path).endswith('.yaml')\n",
    "    liste_fichiers = [str(benefit) for benefit in benefits_folder.iterdir() if isYAMLfile(benefit)]\n",
    "    return liste_fichiers\n",
    "\n",
    "benefits_files_paths = extract_benefits_paths(benefits_folder)\n",
    "benefits_files_paths"
   ]
  },
  {
   "cell_type": "markdown",
   "metadata": {},
   "source": [
    "## Open and parse files: make a list of Dict"
   ]
  },
  {
   "cell_type": "code",
   "execution_count": null,
   "metadata": {},
   "outputs": [],
   "source": [
    "import yaml\n",
    "\n",
    "def extract_benefit_file_content(aide_path):\n",
    "    return yaml.safe_load(open(aide_path))\n",
    "\n",
    "def extract_benefits_from_yamls(path):\n",
    "    benefits_files_paths = extract_benefits_paths(path)\n",
    "    benefits = [extract_benefit_file_content(path) for path in benefits_files_paths]\n",
    "    return benefits"
   ]
  },
  {
   "cell_type": "code",
   "execution_count": null,
   "metadata": {},
   "outputs": [],
   "source": [
    "class Benefit():\n",
    "    label = str\n",
    "    institution = str\n",
    "    description = str\n",
    "    prefix = str\n",
    "    conditions_generales: list\n",
    "    profils: list\n",
    "    conditions: list\n",
    "    interestFlag: str\n",
    "    type: str\n",
    "    unit: str\n",
    "    periodicite: str\n",
    "    montant: int\n",
    "    link: str\n",
    "    instructions: str\n",
    "    teleservice: str\n",
    "    periodicite: str\n",
    "    legend: str\n",
    "\n",
    "    def __init__(self, dict: dict) -> None:\n",
    "\n",
    "        try:\n",
    "            self.label = dict.get('label', '')\n",
    "            self.institution = dict.get('institution', '')\n",
    "            self.description = dict.get('description', '')\n",
    "            self.prefix = dict.get('prefix', '')\n",
    "            self.conditions_generales = dict.get('conditions_generales', [])\n",
    "            self.profils = dict.get('profils', [])\n",
    "            self.conditions = dict.get('conditions', [''])\n",
    "            self.interestFlag = dict.get('interestFlag', '')\n",
    "            self.type = dict.get('type', '')\n",
    "            self.unit = dict.get('unit', '')\n",
    "            self.periodicite = dict.get('periodicite', '')\n",
    "            self.montant = dict.get('montant', None)\n",
    "            self.link = dict.get('link', '')\n",
    "            self.instructions = dict.get('instructions', '')\n",
    "            self.teleservice = dict.get('teleservice', '')\n",
    "            self.periodicite = dict.get('periodicite', '')\n",
    "            self.legend = dict.get('legend', '')\n",
    "        except KeyError:\n",
    "            raise KeyError\n"
   ]
  },
  {
   "cell_type": "code",
   "execution_count": null,
   "metadata": {},
   "outputs": [],
   "source": [
    "from benefit import Benefit\n",
    "def parse_benefits_from_yamls(path):\n",
    "    benefits_files_paths = extract_benefits_paths(path)\n",
    "    benefits = [Benefit(extract_benefit_file_content(path)) for path in benefits_files_paths]\n",
    "    return benefits\n",
    "\n",
    "benefits_objects = parse_benefits_from_yamls(benefits_folder)    "
   ]
  },
  {
   "cell_type": "code",
   "execution_count": null,
   "metadata": {},
   "outputs": [],
   "source": [
    "benefits = extract_benefits_from_yamls(benefits_folder)"
   ]
  },
  {
   "cell_type": "markdown",
   "metadata": {
    "tags": []
   },
   "source": [
    "##  Make a list of [profils] [type] in all aides given"
   ]
  },
  {
   "cell_type": "code",
   "execution_count": null,
   "metadata": {},
   "outputs": [],
   "source": [
    "\n",
    "from functools import reduce\n",
    "from benefit import BenefitProfile\n",
    "\n",
    "def accumulate_profils(profils: list, benefit: BenefitProfile):\n",
    "        return profils + benefit.get_profils_types()\n",
    "\n",
    "profiles_names = reduce(accumulate_profils, benefits_objects, [])\n"
   ]
  },
  {
   "cell_type": "markdown",
   "metadata": {},
   "source": [
    "# Make a list with all conditons:\n",
    "\t- conditions generales\n",
    "\t- conditions in [profils][type]"
   ]
  },
  {
   "cell_type": "code",
   "execution_count": null,
   "metadata": {},
   "outputs": [],
   "source": [
    "from functools import reduce\n",
    "\n",
    "from benefit import BenefitCondition\n",
    "\n",
    "def accumulate_conditions(conditions: list, benefit: BenefitCondition):\n",
    "    return conditions + benefit.get_all_conditions_types()\n",
    "\n",
    "conditions_names = reduce(accumulate_conditions, benefits_objects, [])\n",
    "conditions_names"
   ]
  },
  {
   "cell_type": "markdown",
   "metadata": {},
   "source": [
    "# Count frequence of profils and conditions appearances"
   ]
  },
  {
   "cell_type": "code",
   "execution_count": null,
   "metadata": {},
   "outputs": [],
   "source": [
    "def count_list_item_frequence(list : list):\n",
    "    elements_counter = {}\n",
    "    for element in list:\n",
    "        if element in elements_counter:\n",
    "            elements_counter[element] +=1\n",
    "        else:\n",
    "            elements_counter[element] = 1\n",
    "    return (sorted(elements_counter.items(), key=lambda x:x[1]))\n",
    "\n",
    "profil_names_frequence = count_list_item_frequence(profiles_names)\n",
    "condition_frequence = count_list_item_frequence(conditions_names)"
   ]
  },
  {
   "cell_type": "code",
   "execution_count": null,
   "metadata": {},
   "outputs": [],
   "source": [
    "condition_frequence"
   ]
  },
  {
   "cell_type": "code",
   "execution_count": null,
   "metadata": {},
   "outputs": [],
   "source": [
    "profil_names_frequence"
   ]
  },
  {
   "cell_type": "markdown",
   "metadata": {},
   "source": [
    "## Reference benefits with no profils:"
   ]
  },
  {
   "cell_type": "code",
   "execution_count": null,
   "metadata": {},
   "outputs": [],
   "source": [
    "def contains_profils(benefit :dict):\n",
    "    return 'profils' in benefit and benefit['profils'] != []\n",
    "\n",
    "def extract_benefit_without_profile(benefit: Benefit):\n",
    "    if benefit.profils == []:\n",
    "        return [benefit.get_label_and_institution()]\n",
    "    else:\n",
    "        return []\n",
    "\n",
    "def accumulate_benefit_without_profile(list:list, benefit):\n",
    "    \n",
    "    return list + extract_benefit_without_profile(benefit)\n",
    "    \n",
    "    \n",
    "benefits_without_profils = reduce(accumulate_benefit_without_profile, benefits_objects, [])\n",
    "benefits_without_profils"
   ]
  },
  {
   "cell_type": "markdown",
   "metadata": {},
   "source": [
    "## Benefits using only age as condition:"
   ]
  },
  {
   "cell_type": "code",
   "execution_count": null,
   "metadata": {},
   "outputs": [],
   "source": [
    "def is_only_condition_age(benefit: Benefit):\n",
    "    conditions = benefit.get_all_conditions_types()\n",
    "    return all(condition == \"age\" for condition in conditions) and conditions != []\n",
    "\n",
    "def extract_benefit_with_only_condition(benefit : Benefit):\n",
    "    if is_only_condition_age(benefit):\n",
    "        return [benefit.get_label_and_institution()]\n",
    "    else:\n",
    "        return []\n",
    "\n",
    "def accumulate_benefit_with_only_condition(list:list, benefit: Benefit):\n",
    "    \n",
    "    return list + extract_benefit_with_only_condition(benefit)\n",
    "\n",
    "benefits_with_only_age_condition = reduce(accumulate_benefit_with_only_condition, benefits_objects, [])\n",
    "benefits_with_only_age_condition"
   ]
  },
  {
   "cell_type": "code",
   "execution_count": null,
   "metadata": {},
   "outputs": [],
   "source": []
  }
 ],
 "metadata": {
  "kernelspec": {
   "display_name": "Python 3.8.10 64-bit",
   "language": "python",
   "name": "python3"
  },
  "language_info": {
   "codemirror_mode": {
    "name": "ipython",
    "version": 3
   },
   "file_extension": ".py",
   "mimetype": "text/x-python",
   "name": "python",
   "nbconvert_exporter": "python",
   "pygments_lexer": "ipython3",
   "version": "3.8.10"
  },
  "orig_nbformat": 4,
  "vscode": {
   "interpreter": {
    "hash": "916dbcbb3f70747c44a77c7bcd40155683ae19c65e1c03b4aa3499c5328201f1"
   }
  }
 },
 "nbformat": 4,
 "nbformat_minor": 2
}
