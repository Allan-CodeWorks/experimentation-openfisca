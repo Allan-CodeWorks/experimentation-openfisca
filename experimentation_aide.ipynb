{
 "cells": [
  {
   "cell_type": "markdown",
   "metadata": {},
   "source": [
    "## Scan for Yaml files:"
   ]
  },
  {
   "cell_type": "code",
   "execution_count": null,
   "metadata": {},
   "outputs": [],
   "source": [
    "from pathlib import Path\n",
    "\n",
    "benefits_folder = Path('./aides')\n",
    "\n",
    "def extract_benefits_paths(benefits_folder):\n",
    "    isYAMLfile = lambda path : str(path).endswith('.yml') or str(path).endswith('.yaml')\n",
    "    liste_fichiers = [str(benefit) for benefit in benefits_folder.iterdir() if isYAMLfile(benefit)]\n",
    "    return liste_fichiers\n",
    "\n",
    "benefits_files_paths = extract_benefits_paths(benefits_folder)\n",
    "benefits_files_paths"
   ]
  },
  {
   "cell_type": "markdown",
   "metadata": {},
   "source": [
    "## Open and parse files: make a list of Dict"
   ]
  },
  {
   "cell_type": "code",
   "execution_count": null,
   "metadata": {},
   "outputs": [],
   "source": [
    "import yaml\n",
    "\n",
    "def extract_benefit_file_content(aide_path):\n",
    "    return yaml.safe_load(open(aide_path))\n",
    "\n",
    "def extract_benefits_from_yamls(path):\n",
    "    benefits_files_paths = extract_benefits_paths(path)\n",
    "    benefits = [extract_benefit_file_content(path) for path in benefits_files_paths]\n",
    "    return benefits"
   ]
  },
  {
   "cell_type": "code",
   "execution_count": null,
   "metadata": {},
   "outputs": [],
   "source": [
    "benefits = extract_benefits_from_yamls(benefits_folder)"
   ]
  },
  {
   "cell_type": "markdown",
   "metadata": {
    "tags": []
   },
   "source": [
    "##  Make a list of [profils] [type] in all aides given"
   ]
  },
  {
   "cell_type": "code",
   "execution_count": null,
   "metadata": {},
   "outputs": [],
   "source": [
    "def get_profils_names_from_aides_list(path : str):\n",
    "    \n",
    "    get_aide_profiles_names = lambda aide: [profile['type'] for profile in aide['profils']]\n",
    "    \n",
    "    return [profile for benefit in benefits for profile in get_aide_profiles_names(benefit)]\n",
    "\n",
    "profiles_names = get_profils_names_from_aides_list(benefits)\n",
    "profiles_names"
   ]
  },
  {
   "cell_type": "markdown",
   "metadata": {},
   "source": [
    "# Make a list with all conditons:\n",
    "\t- conditions generales\n",
    "\t- conditions in [profils][type]"
   ]
  },
  {
   "cell_type": "code",
   "execution_count": null,
   "metadata": {},
   "outputs": [],
   "source": [
    "def extract_conditions(benefit):\n",
    "    \n",
    "    conditions = [condition['type'] for condition in benefit['conditions_generales']]\n",
    "    profil_conditions = [condition['type'] for profil in benefit['profils'] if 'conditions' in profil for condition in profil['conditions'] ]\n",
    "    \n",
    "    return conditions + profil_conditions\n",
    "\n",
    "\n",
    "\n",
    "\n",
    "def get_all_conditions_from_benefits(path: str):\n",
    "    \n",
    "    return [condition for benefit in benefits for condition in extract_conditions(benefit)]\n",
    "\n",
    "\n",
    "conditions_names = get_all_conditions_from_benefits(benefits)\n",
    "conditions_names"
   ]
  },
  {
   "cell_type": "markdown",
   "metadata": {},
   "source": [
    "# Count frequence of profils and conditions appearances"
   ]
  },
  {
   "cell_type": "code",
   "execution_count": null,
   "metadata": {},
   "outputs": [],
   "source": [
    "def count_list_item_frequence(list : list):\n",
    "    elements_counter = {}\n",
    "    for element in list:\n",
    "        if element in elements_counter:\n",
    "            elements_counter[element] +=1\n",
    "        else:\n",
    "            elements_counter[element] = 1\n",
    "    return (sorted(elements_counter.items(), key=lambda x:x[1]))\n",
    "\n",
    "profil_names_frequence = count_list_item_frequence(profiles_names)\n",
    "condition_frequence = count_list_item_frequence(conditions_names)"
   ]
  },
  {
   "cell_type": "code",
   "execution_count": null,
   "metadata": {},
   "outputs": [],
   "source": [
    "condition_frequence"
   ]
  },
  {
   "cell_type": "code",
   "execution_count": null,
   "metadata": {},
   "outputs": [],
   "source": [
    "profil_names_frequence"
   ]
  }
 ],
 "metadata": {
  "kernelspec": {
   "display_name": "Python 3.8.10 64-bit",
   "language": "python",
   "name": "python3"
  },
  "language_info": {
   "codemirror_mode": {
    "name": "ipython",
    "version": 3
   },
   "file_extension": ".py",
   "mimetype": "text/x-python",
   "name": "python",
   "nbconvert_exporter": "python",
   "pygments_lexer": "ipython3",
   "version": "3.8.10"
  },
  "orig_nbformat": 4,
  "vscode": {
   "interpreter": {
    "hash": "916dbcbb3f70747c44a77c7bcd40155683ae19c65e1c03b4aa3499c5328201f1"
   }
  }
 },
 "nbformat": 4,
 "nbformat_minor": 2
}
